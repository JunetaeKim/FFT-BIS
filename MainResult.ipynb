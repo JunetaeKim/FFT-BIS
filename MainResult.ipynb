{
 "cells": [
  {
   "cell_type": "markdown",
   "metadata": {
    "tags": []
   },
   "source": [
    "# Main results with real dataset"
   ]
  },
  {
   "cell_type": "markdown",
   "metadata": {},
   "source": [
    "Section 4.2 (Internal validation with Vital DB) in manuscript"
   ]
  },
  {
   "cell_type": "code",
   "execution_count": 1,
   "metadata": {},
   "outputs": [],
   "source": [
    "import pandas as pd\n",
    "import numpy as np\n",
    "import matplotlib.pyplot as plt\n",
    "from scipy.stats import sem, t\n",
    "from sklearn.metrics import confusion_matrix, precision_score, recall_score, f1_score, accuracy_score, roc_curve, roc_auc_score\n",
    "\n",
    "import tensorflow as tf\n",
    "from tensorflow import keras\n",
    "from tensorflow.keras import regularizers\n",
    "from tensorflow.keras import backend as K,losses\n",
    "from tensorflow.keras.layers import Input, Dense, Concatenate, Lambda, Permute, Multiply, Flatten, Add, LSTM, Bidirectional\n",
    "from tensorflow.keras.backend import expand_dims\n",
    "from tensorflow.keras.regularizers import l2\n",
    "from tensorflow.keras.models import Model\n",
    "from tensorflow.keras.callbacks import ModelCheckpoint, EarlyStopping\n",
    "from tensorflow.keras.optimizers import Adam\n",
    "from tensorflow.keras.activations import softmax\n",
    "\n",
    "class LossHistory(keras.callbacks.Callback):\n",
    "    def on_train_begin(self,logs={}):\n",
    "        self.losses=[]\n",
    "        self.val_losses=[]\n",
    "        \n",
    "    def on_epoch_end(self,batch,logs={}):\n",
    "        self.losses.append(logs.get('loss'))\n",
    "        self.val_losses.append(logs.get('val_loss'))"
   ]
  },
  {
   "cell_type": "markdown",
   "metadata": {},
   "source": [
    "### Load dataset"
   ]
  },
  {
   "cell_type": "code",
   "execution_count": 2,
   "metadata": {},
   "outputs": [
    {
     "data": {
      "text/plain": [
       "((19253, 3000, 1), (19253, 1))"
      ]
     },
     "execution_count": 2,
     "metadata": {},
     "output_type": "execute_result"
    }
   ],
   "source": [
    "# VitalDB testEEG/BIS\n",
    "testEEG = np.load('VitalDB_TestEEG.npy')\n",
    "testBIS = np.load('VitalDB_TestBIS.npy')\n",
    "\n",
    "# EEG normalization\n",
    "EEGmin = -1477.0\n",
    "EEGmax = 1800.0\n",
    "testEEG = (testEEG - EEGmin)/(EEGmax-EEGmin)\n",
    "\n",
    "testEEG.shape, testBIS.shape"
   ]
  },
  {
   "cell_type": "markdown",
   "metadata": {},
   "source": [
    "### Load model with weights"
   ]
  },
  {
   "cell_type": "code",
   "execution_count": null,
   "metadata": {},
   "outputs": [],
   "source": [
    "Fs = 100  # Sampling frequency = 100 Hz\n",
    "DimSize = 30  # Length of EEG = 30 s\n",
    "SignalSize = 1  # Number of features \n",
    "EEGmin = -1477.0\n",
    "EEGmax = 1800.0\n",
    "\n",
    "Half = int(Fs/2)\n",
    "InputWindowSize = Fs * DimSize\n",
    "DRrate = 0.5\n",
    "\n",
    "def SigProcessing (vector):\n",
    "    Casted = tf.cast(vector, tf.complex64) \n",
    "    fft = tf.signal.fft(Casted)\n",
    "    Scaled_fft =fft[:,:,:,:Half]\n",
    "    Abs_fft = tf.abs(Scaled_fft)*(1/(Half*2.5)) # Relative amplitude\n",
    "    Phase_ang = tf.math.angle(Scaled_fft)*180/np.pi + K.epsilon()\n",
    "    return [Abs_fft,Phase_ang]\n",
    "\n",
    "def TimeAxis(input_batch):\n",
    "    np_constant = [np.arange(1,DimSize+1,1).reshape(1, DimSize) for i in range(SignalSize)]\n",
    "    tf_constant = K.constant(np.concatenate(np_constant,axis=0))\n",
    "    batch_size = K.shape(input_batch)[0]\n",
    "    constantVal = tf.tile(tf.expand_dims(tf_constant,0), ([batch_size,1,1]))\n",
    "    return constantVal\n",
    "\n",
    "\n",
    "# Input : 30 s of EEG sampled at 100 Hz\n",
    "InputVec = Input(shape=(InputWindowSize, SignalSize), name='Input')\n",
    "PermutedDense1 = Permute((2,1), name='Permute')(InputVec)\n",
    "InputReStructure =Lambda(lambda x:K.reshape(x,(-1, SignalSize, DimSize, Fs)))(PermutedDense1) \n",
    "\n",
    "# 1. FFT layers (Fig. 3)\n",
    "\n",
    "Abs_fft = Lambda(SigProcessing)(InputReStructure)[0]\n",
    "Phase_ang = Lambda(SigProcessing)(InputReStructure)[1]\n",
    "\n",
    "Sig1_Amp_inp = Lambda(lambda x:x[:, 0,:,:])(Abs_fft)\n",
    "Sig1_Phase_inp = Lambda(lambda x:x[:, 0,:,:])(Phase_ang)\n",
    "\n",
    "# 2. LSTM layers (Fig. 4)\n",
    "\n",
    "Sig1_Amp = Bidirectional(LSTM(10, dropout=DRrate, activation='softsign', return_sequences=True))(Sig1_Amp_inp, training=True)\n",
    "Sig1_Phase = Bidirectional(LSTM(10, dropout=DRrate, activation='softsign', return_sequences=True))(Sig1_Phase_inp, training=True)\n",
    "\n",
    "Sig_concat = Concatenate()([Sig1_Amp,Sig1_Phase])\n",
    "Sig_concat = Bidirectional(LSTM(10, dropout=DRrate, activation='softsign', return_sequences=True))(Sig_concat, training=True)\n",
    "Sig_concat = Bidirectional(LSTM(5, dropout=DRrate, activation='softsign', return_sequences=True))(Sig_concat, training=True)\n",
    "\n",
    "Amp_out = Bidirectional(LSTM(10, dropout=DRrate, activation='softsign', return_sequences=True))(Sig_concat, training=True)\n",
    "Phase_out = Bidirectional(LSTM(10, dropout=DRrate, activation='softsign', return_sequences=True))(Sig_concat, training=True)\n",
    "\n",
    "# 3. Interpretable layers (Fig. 5)\n",
    "\n",
    "Amp_weibul = Dense(10, activation='relu')(Amp_out)\n",
    "Amp_weibul = Dense(2, activation='softplus')(Amp_weibul)\n",
    "Amp_Alpha = Lambda(lambda x:x[:,0:1,0:1])(Amp_weibul)\n",
    "Amp_Beta = Lambda(lambda x:x[:,0:1,1:2])(Amp_weibul)\n",
    "TimeAxisVec = (Lambda(TimeAxis)(Amp_weibul))\n",
    "Amp_Time_Effect = 1-tf.exp(-(TimeAxisVec/Amp_Alpha)**Amp_Beta) # amplitude time-decayed effect\n",
    "Amp_out = Concatenate()([Amp_out, Amp_weibul])\n",
    "Amp_att = Dense(25, activation='elu')(Amp_out)\n",
    "Amp_att = Dense(Half, activation='softmax')(Amp_att) # amplitude attention\n",
    "\n",
    "Phase_weibul = Dense(10, activation='relu')(Phase_out)\n",
    "Phase_weibul = Dense(2, activation='softplus')(Phase_weibul)\n",
    "Phase_Alpha = Lambda(lambda x:x[:,0:1,0:1])(Phase_weibul)\n",
    "Phase_Beta = Lambda(lambda x:x[:,0:1,1:2])(Phase_weibul)\n",
    "TimeAxisVec = (Lambda(TimeAxis)(Phase_weibul))\n",
    "Phase_Time_Effect =1-tf.exp(-(TimeAxisVec/Phase_Alpha)**Phase_Beta) # phase time-decayed effect\n",
    "Phase_out = Concatenate()([Phase_out, Phase_weibul])\n",
    "Phase_att = Dense(25, activation='elu')(Phase_out)\n",
    "Phase_att = Dense(Half, activation='softmax')(Phase_att) # phase attention\n",
    "\n",
    "# 4. BIS calculation layers (Fig. 6) \n",
    "\n",
    "Amp_end = Multiply(name='Amp_end')([Sig1_Amp_inp, Permute((2,1))(Amp_Time_Effect), Amp_att])\n",
    "Amp_end = Lambda(lambda x:tf.reduce_sum(x, axis=(1,2), keepdims=True)+K.epsilon())(Amp_end) # amplitude context\n",
    "Phase_end = Multiply(name='Phase_end')([Sig1_Phase_inp,Permute((2,1))(Phase_Time_Effect), Phase_att])\n",
    "Phase_end = Lambda(lambda x:tf.reduce_sum(x, axis=(1,2), keepdims=True)+K.epsilon())(Phase_end) # phase context\n",
    "\n",
    "Out = Add()([Amp_end,Phase_end])\n",
    "Out = Flatten(name='Add_end')(Out)\n",
    "\n",
    "model = Model(InputVec, Out)\n",
    "\n",
    "model.load_weights('./ModelResults/FinalModel_0716_4624_0.0033299_0.0032866.hdf5')\n",
    "model.compile(loss= losses.mean_squared_error, optimizer='adam') "
   ]
  },
  {
   "cell_type": "markdown",
   "metadata": {},
   "source": [
    "## 4.2.1 Model Performance"
   ]
  },
  {
   "cell_type": "markdown",
   "metadata": {},
   "source": [
    "#### Table 2 Model Performance of Internal Validation"
   ]
  },
  {
   "cell_type": "markdown",
   "metadata": {},
   "source": [
    "Regression"
   ]
  },
  {
   "cell_type": "code",
   "execution_count": 4,
   "metadata": {},
   "outputs": [],
   "source": [
    "### Divide samples into groups by BIS range ###\n",
    "\n",
    "def divide_by_range(testEEG,testBIS,lower,upper):\n",
    "    \n",
    "    testBISidx = np.where((testBIS<upper) & (testBIS>=lower))[0]\n",
    "    testEEG = testEEG[testBISidx]\n",
    "    testBIS = testBIS[testBISidx]\n",
    "    \n",
    "    return testEEG, testBIS\n",
    "\n",
    "testEEG20, testBIS20 = divide_by_range(testEEG,testBIS,0,0.2) # BIS 0 - 20\n",
    "testEEG40, testBIS40 = divide_by_range(testEEG,testBIS,0.2,0.4) # BIS 20 - 40\n",
    "testEEG60, testBIS60 = divide_by_range(testEEG,testBIS,0.4,0.6) # BIS 40 - 60\n",
    "testEEG80, testBIS80 = divide_by_range(testEEG,testBIS,0.6,0.8) # BIS 60 - 80\n",
    "testEEG100, testBIS100 = divide_by_range(testEEG,testBIS,0.8,1) # BIS 80 - 100\n",
    "\n",
    "EEG = [testEEG20, testEEG40, testEEG60, testEEG80, testEEG100]\n",
    "BIS = [testBIS20, testBIS40, testBIS60, testBIS80, testBIS100]"
   ]
  },
  {
   "cell_type": "code",
   "execution_count": null,
   "metadata": {
    "scrolled": true
   },
   "outputs": [],
   "source": [
    "### Get predicted BIS values for all BIS ranges ###\n",
    "\n",
    "predClass = []\n",
    "concatClass = []\n",
    "\n",
    "for i in range(len(BIS)): \n",
    "    score_all = []\n",
    "    concatScore = np.empty((len(EEG[i]),1))\n",
    "    for j in range(100):\n",
    "        print(str(i)+'-'+str(j))\n",
    "        score = model.predict(EEG[i], batch_size=2000, verbose=1)\n",
    "        concatScore = np.concatenate((concatScore, score), axis=1)\n",
    "    \n",
    "    concatScore = concatScore[:,1:]\n",
    "    meanScore = np.mean(concatScore, axis=1).reshape(-1)\n",
    "    \n",
    "    concatClass.append(concatScore)\n",
    "    predClass.append(meanScore)\n",
    "    \n",
    "predClass = np.concatenate(predClass, axis=0)\n",
    "concatClass = np.concatenate(concatClass, axis=0)\n",
    "np.save('./ProcessedData/VitalDB_TestBISpred.npy', predClass)\n",
    "np.save('./ProcessedData/VitalDB_TestBISconcat.npy', concatClass)"
   ]
  },
  {
   "cell_type": "code",
   "execution_count": 6,
   "metadata": {},
   "outputs": [],
   "source": [
    "### Compute mean & std for all BIS ranges ###\n",
    "\n",
    "predClass = np.load('./ProcessedData/VitalDB_TestBISpred.npy', allow_pickle=True)\n",
    "concatClass = np.load('./ProcessedData/VitalDB_TestBISconcat.npy', allow_pickle=True)\n",
    "\n",
    "setLEN = [obs.shape[0] for obs in BIS]\n",
    "setIDX = setLEN.copy()\n",
    "for i in range(len(BIS)-1):\n",
    "    setIDX[i+1] = setIDX[i] + setIDX[i+1]\n",
    "setIDX = setIDX[:-1]\n",
    "\n",
    "predBIS = np.split(predClass, list(setIDX))\n",
    "concatBIS = np.split(concatClass, list(setIDX))\n",
    "\n",
    "def rmean(y_true, y_pred) :\n",
    "    return np.sqrt(np.mean(np.square(y_pred-y_true)))\n",
    "def rvar(y_true, y_pred) :\n",
    "    return np.sqrt(np.var(np.square(y_pred-y_true)))\n",
    "\n",
    "scoreRMEAN = [rmean(predBIS[i], BIS[i].squeeze()) for i in range(len(BIS))]\n",
    "scoreRVAR = [rvar(predBIS[i], BIS[i].squeeze()) for i in range(len(BIS))]"
   ]
  },
  {
   "cell_type": "code",
   "execution_count": 7,
   "metadata": {},
   "outputs": [
    {
     "data": {
      "text/html": [
       "<div>\n",
       "<style scoped>\n",
       "    .dataframe tbody tr th:only-of-type {\n",
       "        vertical-align: middle;\n",
       "    }\n",
       "\n",
       "    .dataframe tbody tr th {\n",
       "        vertical-align: top;\n",
       "    }\n",
       "\n",
       "    .dataframe thead th {\n",
       "        text-align: right;\n",
       "    }\n",
       "</style>\n",
       "<table border=\"1\" class=\"dataframe\">\n",
       "  <thead>\n",
       "    <tr style=\"text-align: right;\">\n",
       "      <th></th>\n",
       "      <th>0-19</th>\n",
       "      <th>20-39</th>\n",
       "      <th>40-59</th>\n",
       "      <th>60-79</th>\n",
       "      <th>80-100</th>\n",
       "    </tr>\n",
       "  </thead>\n",
       "  <tbody>\n",
       "    <tr>\n",
       "      <th>mean</th>\n",
       "      <td>4.809980</td>\n",
       "      <td>4.913548</td>\n",
       "      <td>4.342723</td>\n",
       "      <td>5.880948</td>\n",
       "      <td>5.427756</td>\n",
       "    </tr>\n",
       "    <tr>\n",
       "      <th>std</th>\n",
       "      <td>1.115828</td>\n",
       "      <td>0.589749</td>\n",
       "      <td>0.371660</td>\n",
       "      <td>1.054420</td>\n",
       "      <td>0.849319</td>\n",
       "    </tr>\n",
       "  </tbody>\n",
       "</table>\n",
       "</div>"
      ],
      "text/plain": [
       "          0-19     20-39     40-59     60-79    80-100\n",
       "mean  4.809980  4.913548  4.342723  5.880948  5.427756\n",
       "std   1.115828  0.589749  0.371660  1.054420  0.849319"
      ]
     },
     "execution_count": 7,
     "metadata": {},
     "output_type": "execute_result"
    }
   ],
   "source": [
    "pd.DataFrame([scoreRMEAN, scoreRVAR], index=['mean','std'], columns=['0-19','20-39','40-59','60-79','80-100'])*100"
   ]
  },
  {
   "cell_type": "markdown",
   "metadata": {},
   "source": [
    "Classification at BIS60"
   ]
  },
  {
   "cell_type": "code",
   "execution_count": 8,
   "metadata": {},
   "outputs": [
    {
     "name": "stdout",
     "output_type": "stream",
     "text": [
      "Accuracy :  0.9522152391835038\n",
      "AUROC :  0.9919354751583317\n",
      "Sensitivity :  0.9234165861735891\n",
      "Specificity :  0.9695985340663001\n"
     ]
    }
   ],
   "source": [
    "predBIS_All = np.concatenate(predBIS, axis=0)\n",
    "actBIS_All = np.concatenate(BIS, axis=0).squeeze()\n",
    "\n",
    "predClass = np.where(predBIS_All>=0.6,1,0)\n",
    "actClass = np.where(actBIS_All>=0.6, 1, 0).squeeze()\n",
    "\n",
    "acc = accuracy_score(actClass, predClass)\n",
    "auroc = roc_auc_score(actClass, predBIS_All)\n",
    "sens = recall_score(actClass, predClass, pos_label=1)\n",
    "spec = confusion_matrix(actClass, predClass).ravel()\n",
    "spec = spec[0]/(spec[0]+spec[1])\n",
    "\n",
    "print('Accuracy : ', acc)\n",
    "print('AUROC : ', auroc)\n",
    "print('Sensitivity : ', sens)\n",
    "print('Specificity : ', spec)"
   ]
  },
  {
   "cell_type": "markdown",
   "metadata": {},
   "source": [
    "## 4.2.2 Model Interpretation"
   ]
  },
  {
   "cell_type": "markdown",
   "metadata": {},
   "source": [
    "#### 4.2.2.1 Visualization of attention values"
   ]
  },
  {
   "cell_type": "code",
   "execution_count": null,
   "metadata": {
    "scrolled": true
   },
   "outputs": [],
   "source": [
    "### extract attention layer form the model and predict 100 times ###\n",
    "\n",
    "def get_att(att):\n",
    "    \n",
    "    # attention layer * time decay effect\n",
    "    if att == 0: # amplitude att\n",
    "        FFT_effect = Multiply(name='Amp_end')([Permute((2,1))(Amp_Time_Effect), Amp_att])\n",
    "    else: # phase att\n",
    "        FFT_effect = Multiply(name='Phase_end')([Permute((2,1))(Phase_Time_Effect), Phase_att])\n",
    "    FFT_Model = Model(InputVec, FFT_effect)\n",
    "\n",
    "    # predict \n",
    "    AttVis = []\n",
    "    for i in range(len(BIS)):\n",
    "        res_all = []\n",
    "        for j in range(100): \n",
    "            res_end = FFT_Model.predict(EEG[i], batch_size=10000, verbose=1)\n",
    "            res_end = np.mean(res_end, axis=0)\n",
    "            res_all.append(res_end)\n",
    "        res_all = np.mean(np.array(res_all), axis=0)\n",
    "        AttVis.append(res_all) \n",
    "    \n",
    "    return np.array(AttVis)\n",
    "\n",
    "np.save('./ProcessedData/VitalDB_AttAmp.npy', get_att(0))  # save amplitude attention values\n",
    "np.save('./ProcessedData/VitalDB_AttPhase.npy', get_att(1)) # save phase attention values"
   ]
  },
  {
   "cell_type": "code",
   "execution_count": 9,
   "metadata": {},
   "outputs": [],
   "source": [
    "### visualize attention values ###\n",
    "\n",
    "def visualize_att(att):\n",
    "\n",
    "    if att == 0: # amplitude att\n",
    "        AttVis = np.load('./ProcessedData/VitalDB_AttAmp.npy')\n",
    "        ticks=[0.00,0.01,0.02,0.03,0.04,0.05]\n",
    "    else: # phase att\n",
    "        AttVis = np.load('./ProcessedData/VitalDB_AttPhase.npy')\n",
    "        ticks=[0.000000,0.000001,0.000002,0.000003,0.000004,0.000005]\n",
    "        \n",
    "    fig = plt.figure(figsize=(30,3))\n",
    "    for i in range(5):\n",
    "        plt.subplot(1,5,i+1)\n",
    "        plt.imshow(AttVis[i,:,1:])\n",
    "        plt.yticks(fontsize='xx-large')\n",
    "        plt.clim(0,ticks[-1])\n",
    "        plt.xticks(np.arange(0, 50, 10), labels=['1','11','21','31','41'], fontsize='xx-large')\n",
    "        cb = plt.colorbar(ticks=ticks)\n",
    "        cb.ax.set_yticklabels(labels = [str(i) for i in cb.get_ticks()], fontsize='xx-large')"
   ]
  },
  {
   "cell_type": "markdown",
   "metadata": {},
   "source": [
    "#### Fig. 8.  Attention values of internal validation"
   ]
  },
  {
   "cell_type": "code",
   "execution_count": 10,
   "metadata": {},
   "outputs": [
    {
     "data": {
      "image/png": "[encoded data removed]",
      "text/plain": [
       "<Figure size 2160x216 with 10 Axes>"
      ]
     },
     "metadata": {
      "needs_background": "light"
     },
     "output_type": "display_data"
    }
   ],
   "source": [
    "visualize_att(0) # amplitude attention"
   ]
  },
  {
   "cell_type": "code",
   "execution_count": 11,
   "metadata": {},
   "outputs": [
    {
     "data": {
      "image/png": "[encoded data removed]",
      "text/plain": [
       "<Figure size 2160x216 with 10 Axes>"
      ]
     },
     "metadata": {
      "needs_background": "light"
     },
     "output_type": "display_data"
    }
   ],
   "source": [
    "visualize_att(1) # phase attention"
   ]
  },
  {
   "cell_type": "markdown",
   "metadata": {},
   "source": [
    "# End"
   ]
  }
 ],
 "metadata": {
  "anaconda-cloud": {},
  "kernelspec": {
   "display_name": "Python 3",
   "language": "python",
   "name": "python3"
  },
  "language_info": {
   "codemirror_mode": {
    "name": "ipython",
    "version": 3
   },
   "file_extension": ".py",
   "mimetype": "text/x-python",
   "name": "python",
   "nbconvert_exporter": "python",
   "pygments_lexer": "ipython3",
   "version": "3.8.5"
  }
 },
 "nbformat": 4,
 "nbformat_minor": 4
}
